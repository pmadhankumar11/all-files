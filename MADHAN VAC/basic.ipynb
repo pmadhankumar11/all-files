{
 "cells": [
  {
   "cell_type": "code",
   "execution_count": 8,
   "id": "d9208bbd",
   "metadata": {},
   "outputs": [],
   "source": [
    "a=10"
   ]
  },
  {
   "cell_type": "code",
   "execution_count": 3,
   "id": "6f8950d7",
   "metadata": {},
   "outputs": [],
   "source": [
    "b=30"
   ]
  },
  {
   "cell_type": "code",
   "execution_count": 9,
   "id": "e6afd4c9",
   "metadata": {},
   "outputs": [
    {
     "data": {
      "text/plain": [
       "300"
      ]
     },
     "execution_count": 9,
     "metadata": {},
     "output_type": "execute_result"
    }
   ],
   "source": [
    "a*b"
   ]
  },
  {
   "cell_type": "code",
   "execution_count": 4,
   "id": "b685afa4",
   "metadata": {},
   "outputs": [],
   "source": [
    "a2=40"
   ]
  },
  {
   "cell_type": "code",
   "execution_count": 10,
   "id": "0faa247f",
   "metadata": {},
   "outputs": [
    {
     "data": {
      "text/plain": [
       "7.5"
      ]
     },
     "execution_count": 10,
     "metadata": {},
     "output_type": "execute_result"
    }
   ],
   "source": [
    "a*b/a2"
   ]
  },
  {
   "cell_type": "code",
   "execution_count": 5,
   "id": "4cf0188c",
   "metadata": {},
   "outputs": [
    {
     "ename": "SyntaxError",
     "evalue": "invalid syntax (Temp/ipykernel_9956/716602704.py, line 1)",
     "output_type": "error",
     "traceback": [
      "\u001b[1;36m  File \u001b[1;32m\"C:\\Users\\ADMIN\\AppData\\Local\\Temp/ipykernel_9956/716602704.py\"\u001b[1;36m, line \u001b[1;32m1\u001b[0m\n\u001b[1;33m    4b=13\u001b[0m\n\u001b[1;37m     ^\u001b[0m\n\u001b[1;31mSyntaxError\u001b[0m\u001b[1;31m:\u001b[0m invalid syntax\n"
     ]
    }
   ],
   "source": [
    "4b=13"
   ]
  },
  {
   "cell_type": "code",
   "execution_count": 6,
   "id": "1f0eb215",
   "metadata": {},
   "outputs": [
    {
     "ename": "SyntaxError",
     "evalue": "starred assignment target must be in a list or tuple (Temp/ipykernel_9956/1642203560.py, line 1)",
     "output_type": "error",
     "traceback": [
      "\u001b[1;36m  File \u001b[1;32m\"C:\\Users\\ADMIN\\AppData\\Local\\Temp/ipykernel_9956/1642203560.py\"\u001b[1;36m, line \u001b[1;32m1\u001b[0m\n\u001b[1;33m    *c=23\u001b[0m\n\u001b[1;37m    ^\u001b[0m\n\u001b[1;31mSyntaxError\u001b[0m\u001b[1;31m:\u001b[0m starred assignment target must be in a list or tuple\n"
     ]
    }
   ],
   "source": [
    "*c=23"
   ]
  },
  {
   "cell_type": "code",
   "execution_count": null,
   "id": "8c7ee583",
   "metadata": {},
   "outputs": [],
   "source": []
  },
  {
   "cell_type": "code",
   "execution_count": 7,
   "id": "0625ec30",
   "metadata": {},
   "outputs": [
    {
     "ename": "SyntaxError",
     "evalue": "invalid syntax (Temp/ipykernel_9956/265031738.py, line 1)",
     "output_type": "error",
     "traceback": [
      "\u001b[1;36m  File \u001b[1;32m\"C:\\Users\\ADMIN\\AppData\\Local\\Temp/ipykernel_9956/265031738.py\"\u001b[1;36m, line \u001b[1;32m1\u001b[0m\n\u001b[1;33m    (m=45\u001b[0m\n\u001b[1;37m      ^\u001b[0m\n\u001b[1;31mSyntaxError\u001b[0m\u001b[1;31m:\u001b[0m invalid syntax\n"
     ]
    }
   ],
   "source": [
    "(m=45"
   ]
  },
  {
   "cell_type": "code",
   "execution_count": 11,
   "id": "fe52ac7f",
   "metadata": {},
   "outputs": [],
   "source": [
    "_c=11"
   ]
  },
  {
   "cell_type": "code",
   "execution_count": 12,
   "id": "a6fff2bf",
   "metadata": {},
   "outputs": [
    {
     "data": {
      "text/plain": [
       "27.272727272727273"
      ]
     },
     "execution_count": 12,
     "metadata": {},
     "output_type": "execute_result"
    }
   ],
   "source": [
    "a*b/_c"
   ]
  },
  {
   "cell_type": "code",
   "execution_count": 13,
   "id": "f4cc3eb0",
   "metadata": {},
   "outputs": [],
   "source": [
    "M=35"
   ]
  },
  {
   "cell_type": "code",
   "execution_count": 14,
   "id": "d5ad0a16",
   "metadata": {},
   "outputs": [],
   "source": [
    "m=30"
   ]
  },
  {
   "cell_type": "code",
   "execution_count": 15,
   "id": "676ba713",
   "metadata": {},
   "outputs": [
    {
     "data": {
      "text/plain": [
       "65"
      ]
     },
     "execution_count": 15,
     "metadata": {},
     "output_type": "execute_result"
    }
   ],
   "source": [
    "M+m"
   ]
  },
  {
   "cell_type": "code",
   "execution_count": null,
   "id": "76a9a93c",
   "metadata": {},
   "outputs": [],
   "source": [
    "N=99"
   ]
  },
  {
   "cell_type": "code",
   "execution_count": 16,
   "id": "41ee58d4",
   "metadata": {},
   "outputs": [],
   "source": [
    "n=1"
   ]
  },
  {
   "cell_type": "code",
   "execution_count": 17,
   "id": "f3cf7702",
   "metadata": {},
   "outputs": [
    {
     "ename": "NameError",
     "evalue": "name 'N' is not defined",
     "output_type": "error",
     "traceback": [
      "\u001b[1;31m---------------------------------------------------------------------------\u001b[0m",
      "\u001b[1;31mNameError\u001b[0m                                 Traceback (most recent call last)",
      "\u001b[1;32m~\\AppData\\Local\\Temp/ipykernel_9956/905695485.py\u001b[0m in \u001b[0;36m<module>\u001b[1;34m\u001b[0m\n\u001b[1;32m----> 1\u001b[1;33m \u001b[0mN\u001b[0m\u001b[1;33m-\u001b[0m\u001b[0mn\u001b[0m\u001b[1;33m\u001b[0m\u001b[1;33m\u001b[0m\u001b[0m\n\u001b[0m",
      "\u001b[1;31mNameError\u001b[0m: name 'N' is not defined"
     ]
    }
   ],
   "source": [
    "N-n"
   ]
  },
  {
   "cell_type": "code",
   "execution_count": 1,
   "id": "f486bec5",
   "metadata": {},
   "outputs": [],
   "source": [
    "name='madhan'"
   ]
  },
  {
   "cell_type": "code",
   "execution_count": 4,
   "id": "ce269c57",
   "metadata": {},
   "outputs": [
    {
     "name": "stdout",
     "output_type": "stream",
     "text": [
      "madhan\n"
     ]
    }
   ],
   "source": [
    "print(name)"
   ]
  },
  {
   "cell_type": "code",
   "execution_count": 5,
   "id": "52e7579d",
   "metadata": {},
   "outputs": [
    {
     "name": "stdout",
     "output_type": "stream",
     "text": [
      "kumar\n"
     ]
    }
   ],
   "source": [
    "print('kumar')"
   ]
  },
  {
   "cell_type": "code",
   "execution_count": 6,
   "id": "f8ba2f59",
   "metadata": {},
   "outputs": [
    {
     "name": "stdout",
     "output_type": "stream",
     "text": [
      "madhankumar\n"
     ]
    }
   ],
   "source": [
    "print(name+'kumar')"
   ]
  },
  {
   "cell_type": "code",
   "execution_count": 7,
   "id": "b7a9e59e",
   "metadata": {},
   "outputs": [],
   "source": [
    "y='to all'"
   ]
  },
  {
   "cell_type": "code",
   "execution_count": 17,
   "id": "722959eb",
   "metadata": {},
   "outputs": [],
   "source": [
    "z='friend'"
   ]
  },
  {
   "cell_type": "code",
   "execution_count": 8,
   "id": "f3b15d00",
   "metadata": {},
   "outputs": [
    {
     "name": "stdout",
     "output_type": "stream",
     "text": [
      "welcome to all\n"
     ]
    }
   ],
   "source": [
    "print(f\"welcome {y}\")"
   ]
  },
  {
   "cell_type": "code",
   "execution_count": 19,
   "id": "a68873c5",
   "metadata": {},
   "outputs": [
    {
     "name": "stdout",
     "output_type": "stream",
     "text": [
      "welcome to all friend\n"
     ]
    }
   ],
   "source": [
    "print(f\"welcome {y} {z}\")"
   ]
  },
  {
   "cell_type": "markdown",
   "id": "f2a41646",
   "metadata": {},
   "source": [
    "range "
   ]
  },
  {
   "cell_type": "markdown",
   "id": "dc11f3e1",
   "metadata": {},
   "source": [
    "range(start,end,step)"
   ]
  },
  {
   "cell_type": "code",
   "execution_count": 9,
   "id": "2de919c1",
   "metadata": {},
   "outputs": [],
   "source": [
    "var1=(2,23,45)"
   ]
  },
  {
   "cell_type": "code",
   "execution_count": 10,
   "id": "715449e7",
   "metadata": {},
   "outputs": [
    {
     "name": "stdout",
     "output_type": "stream",
     "text": [
      "(2, 23, 45)\n"
     ]
    }
   ],
   "source": [
    "print(var1)"
   ]
  },
  {
   "cell_type": "code",
   "execution_count": 11,
   "id": "c9a8f45e",
   "metadata": {},
   "outputs": [
    {
     "name": "stdout",
     "output_type": "stream",
     "text": [
      "[2, 23, 45]\n"
     ]
    }
   ],
   "source": [
    "print(list(var1))"
   ]
  },
  {
   "cell_type": "code",
   "execution_count": 12,
   "id": "726b5341",
   "metadata": {},
   "outputs": [
    {
     "name": "stdout",
     "output_type": "stream",
     "text": [
      "(2, 23, 45)\n"
     ]
    }
   ],
   "source": [
    "print(tuple(var1))"
   ]
  },
  {
   "cell_type": "code",
   "execution_count": null,
   "id": "ce46db8d",
   "metadata": {},
   "outputs": [],
   "source": [
    "DICTIONARY \n",
    "FORMAT:VAB={KEY:VALUE}\n",
    "    IFKEY IS STRING ENCLOSE WITH SIGLE OR DOUBLEQUOTE\n",
    "    IF KEY ISNUMERIC NO QUOTE REQUIRED"
   ]
  },
  {
   "cell_type": "code",
   "execution_count": 13,
   "id": "18dddf13",
   "metadata": {},
   "outputs": [
    {
     "ename": "SyntaxError",
     "evalue": "invalid syntax (Temp/ipykernel_6228/3423414011.py, line 1)",
     "output_type": "error",
     "traceback": [
      "\u001b[1;36m  File \u001b[1;32m\"C:\\Users\\ADMIN\\AppData\\Local\\Temp/ipykernel_6228/3423414011.py\"\u001b[1;36m, line \u001b[1;32m1\u001b[0m\n\u001b[1;33m    var2={name:\"data analytics\",dept='mca',studentcount=45}\u001b[0m\n\u001b[1;37m                                    ^\u001b[0m\n\u001b[1;31mSyntaxError\u001b[0m\u001b[1;31m:\u001b[0m invalid syntax\n"
     ]
    }
   ],
   "source": [
    "var2={name:\"data analytics\",dept='mca',studentcount=45}"
   ]
  },
  {
   "cell_type": "code",
   "execution_count": 43,
   "id": "0914c25b",
   "metadata": {
    "scrolled": true
   },
   "outputs": [],
   "source": [
    "var3={\"name\":\"madhan \",\"dept\":'MCA',\"studentcount\":201,\"mobile\":9876543210}"
   ]
  },
  {
   "cell_type": "code",
   "execution_count": 51,
   "id": "bc2c8abe",
   "metadata": {},
   "outputs": [
    {
     "name": "stdout",
     "output_type": "stream",
     "text": [
      "{'name': 'madhan ', 'dept': 'MCA', 'studentcount': 201, 'mobile': 9876543210}\n"
     ]
    }
   ],
   "source": [
    "print(var3)"
   ]
  },
  {
   "cell_type": "code",
   "execution_count": 39,
   "id": "6581affa",
   "metadata": {},
   "outputs": [
    {
     "data": {
      "text/plain": [
       "dict"
      ]
     },
     "execution_count": 39,
     "metadata": {},
     "output_type": "execute_result"
    }
   ],
   "source": [
    "type(var3)"
   ]
  },
  {
   "cell_type": "code",
   "execution_count": 41,
   "id": "37b9c9af",
   "metadata": {},
   "outputs": [
    {
     "name": "stdout",
     "output_type": "stream",
     "text": [
      "['name', 'dept', 'studentcount', 'mobile']\n"
     ]
    }
   ],
   "source": [
    "print(list(var3))"
   ]
  },
  {
   "cell_type": "code",
   "execution_count": 56,
   "id": "a919d0b4",
   "metadata": {},
   "outputs": [],
   "source": [
    "var4={1:\"kumar\",2:\"MCA\",3:84,4:9873444334}"
   ]
  },
  {
   "cell_type": "code",
   "execution_count": 46,
   "id": "a99d496c",
   "metadata": {},
   "outputs": [
    {
     "data": {
      "text/plain": [
       "84"
      ]
     },
     "execution_count": 46,
     "metadata": {},
     "output_type": "execute_result"
    }
   ],
   "source": [
    "var4[3]"
   ]
  },
  {
   "cell_type": "code",
   "execution_count": 52,
   "id": "ffe137f7",
   "metadata": {},
   "outputs": [
    {
     "data": {
      "text/plain": [
       "9876543210"
      ]
     },
     "execution_count": 52,
     "metadata": {},
     "output_type": "execute_result"
    }
   ],
   "source": [
    "var3[\"mobile\"]"
   ]
  },
  {
   "cell_type": "code",
   "execution_count": 57,
   "id": "5fecfaaf",
   "metadata": {},
   "outputs": [],
   "source": [
    "var4[2]='MBA'"
   ]
  },
  {
   "cell_type": "code",
   "execution_count": 58,
   "id": "ca35ae17",
   "metadata": {},
   "outputs": [
    {
     "data": {
      "text/plain": [
       "{1: 'kumar', 2: 'MBA', 3: 84, 4: 9873444334}"
      ]
     },
     "execution_count": 58,
     "metadata": {},
     "output_type": "execute_result"
    }
   ],
   "source": [
    "var4"
   ]
  },
  {
   "cell_type": "markdown",
   "id": "39a4d024",
   "metadata": {},
   "source": [
    "set"
   ]
  },
  {
   "cell_type": "code",
   "execution_count": 2,
   "id": "ce7d44f5",
   "metadata": {},
   "outputs": [],
   "source": [
    "var5={\"1,2,10,6,madhan\"}"
   ]
  },
  {
   "cell_type": "code",
   "execution_count": 63,
   "id": "a8829efc",
   "metadata": {},
   "outputs": [
    {
     "name": "stdout",
     "output_type": "stream",
     "text": [
      "{'1,2,10,6,madhan'}\n"
     ]
    }
   ],
   "source": [
    "print(var5)"
   ]
  },
  {
   "cell_type": "code",
   "execution_count": 64,
   "id": "9a3f75ba",
   "metadata": {},
   "outputs": [
    {
     "data": {
      "text/plain": [
       "set"
      ]
     },
     "execution_count": 64,
     "metadata": {},
     "output_type": "execute_result"
    }
   ],
   "source": [
    "type(var5)"
   ]
  },
  {
   "cell_type": "code",
   "execution_count": 6,
   "id": "95f5c7d5",
   "metadata": {},
   "outputs": [],
   "source": [
    "var5.add('m')"
   ]
  },
  {
   "cell_type": "code",
   "execution_count": 4,
   "id": "22b241f7",
   "metadata": {},
   "outputs": [
    {
     "data": {
      "text/plain": [
       "{'1,2,10,6,madhan', 'm'}"
      ]
     },
     "execution_count": 4,
     "metadata": {},
     "output_type": "execute_result"
    }
   ],
   "source": [
    "var5"
   ]
  },
  {
   "cell_type": "code",
   "execution_count": null,
   "id": "84911195",
   "metadata": {},
   "outputs": [],
   "source": []
  }
 ],
 "metadata": {
  "kernelspec": {
   "display_name": "Python 3 (ipykernel)",
   "language": "python",
   "name": "python3"
  },
  "language_info": {
   "codemirror_mode": {
    "name": "ipython",
    "version": 3
   },
   "file_extension": ".py",
   "mimetype": "text/x-python",
   "name": "python",
   "nbconvert_exporter": "python",
   "pygments_lexer": "ipython3",
   "version": "3.9.7"
  }
 },
 "nbformat": 4,
 "nbformat_minor": 5
}
