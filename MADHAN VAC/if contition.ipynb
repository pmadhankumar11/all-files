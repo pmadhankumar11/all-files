{
 "cells": [
  {
   "cell_type": "code",
   "execution_count": 10,
   "id": "797b1977",
   "metadata": {},
   "outputs": [
    {
     "name": "stdout",
     "output_type": "stream",
     "text": [
      "enter time6\n",
      "morning\n"
     ]
    }
   ],
   "source": [
    "alarm=input(\"enter time\") \n",
    "notif={1:\"morning\",2:\"afternoon\",3:\"everning\"}\n",
    "if int(alarm) < 12:\n",
    "    print(notif[1])\n",
    "elif int(alarm) == 12:\n",
    "    print(notif[2])\n",
    "elif int(alarm) > 12:\n",
    "    print(notif[3])"
   ]
  },
  {
   "cell_type": "code",
   "execution_count": 5,
   "id": "8ea2028d",
   "metadata": {},
   "outputs": [
    {
     "name": "stdout",
     "output_type": "stream",
     "text": [
      "enter time:15\n",
      "evening\n"
     ]
    }
   ],
   "source": [
    "timenow=int(input(\"enter time:\"))\n",
    "notifi={1:\"morning\",2:\"evening\"}\n",
    "if timenow < 12:\n",
    "    print(notifi[1])\n",
    "elif timenow > 12:\n",
    "    print(notifi[2])"
   ]
  },
  {
   "cell_type": "code",
   "execution_count": 9,
   "id": "f610b290",
   "metadata": {},
   "outputs": [
    {
     "name": "stdout",
     "output_type": "stream",
     "text": [
      "enter marks:78\n",
      "very good\n"
     ]
    }
   ],
   "source": [
    "student=(input(\"enter marks:\"))\n",
    "notifi={1:\"excelent\",2:\"very good\",3:\"poor\"}\n",
    "if  int (student) > 80:\n",
    "    print(notifi[1])\n",
    "elif int (student) > 60:\n",
    "    print(notifi[2])\n",
    "elif int (student) < 60:\n",
    "    print(notifi[3])"
   ]
  },
  {
   "cell_type": "code",
   "execution_count": 12,
   "id": "eccf0743",
   "metadata": {},
   "outputs": [
    {
     "name": "stdout",
     "output_type": "stream",
     "text": [
      "enter the unit:899\n",
      "2000\n"
     ]
    }
   ],
   "source": [
    "bill=int(input(\"enter the unit:\"))\n",
    "notifi={1:\"2000\",2:\"1500\",3:\"1000\",4:\"500\"}\n",
    "if bill > 500:\n",
    "    print(notifi[1])\n",
    "elif bill >400:\n",
    "    print(notifi[2])\n",
    "elif bill >300:\n",
    "    print(notifi[3])\n",
    "elif bill <300:\n",
    "    print(notifi[4])"
   ]
  },
  {
   "cell_type": "code",
   "execution_count": null,
   "id": "f97185b0",
   "metadata": {},
   "outputs": [],
   "source": []
  }
 ],
 "metadata": {
  "kernelspec": {
   "display_name": "Python 3 (ipykernel)",
   "language": "python",
   "name": "python3"
  },
  "language_info": {
   "codemirror_mode": {
    "name": "ipython",
    "version": 3
   },
   "file_extension": ".py",
   "mimetype": "text/x-python",
   "name": "python",
   "nbconvert_exporter": "python",
   "pygments_lexer": "ipython3",
   "version": "3.9.7"
  }
 },
 "nbformat": 4,
 "nbformat_minor": 5
}
