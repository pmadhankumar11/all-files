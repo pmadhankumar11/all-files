{
 "cells": [
  {
   "cell_type": "markdown",
   "id": "118949bd",
   "metadata": {},
   "source": [
    "pip install sklearn"
   ]
  },
  {
   "cell_type": "markdown",
   "id": "4da6303b",
   "metadata": {},
   "source": [
    "pip.showpackage"
   ]
  },
  {
   "cell_type": "markdown",
   "id": "81adeff9",
   "metadata": {},
   "source": [
    "pip install scikit-learn"
   ]
  },
  {
   "cell_type": "code",
   "execution_count": 7,
   "id": "5c87ecbd",
   "metadata": {},
   "outputs": [],
   "source": [
    "from sklearn.impute import SimpleImputer"
   ]
  },
  {
   "cell_type": "markdown",
   "id": "ee10f6f8",
   "metadata": {},
   "source": [
    "catogrical data "
   ]
  },
  {
   "cell_type": "code",
   "execution_count": 9,
   "id": "db1374fc",
   "metadata": {},
   "outputs": [],
   "source": [
    "import pandas as ms"
   ]
  },
  {
   "cell_type": "code",
   "execution_count": 10,
   "id": "24d0e2d5",
   "metadata": {},
   "outputs": [],
   "source": [
    "sal_details=ms.DataFrame({'salary':[1200,2500,3000,6000],'cat':['low','low','mid','high']})"
   ]
  },
  {
   "cell_type": "code",
   "execution_count": 11,
   "id": "e2c2c1c0",
   "metadata": {},
   "outputs": [
    {
     "data": {
      "text/html": [
       "<div>\n",
       "<style scoped>\n",
       "    .dataframe tbody tr th:only-of-type {\n",
       "        vertical-align: middle;\n",
       "    }\n",
       "\n",
       "    .dataframe tbody tr th {\n",
       "        vertical-align: top;\n",
       "    }\n",
       "\n",
       "    .dataframe thead th {\n",
       "        text-align: right;\n",
       "    }\n",
       "</style>\n",
       "<table border=\"1\" class=\"dataframe\">\n",
       "  <thead>\n",
       "    <tr style=\"text-align: right;\">\n",
       "      <th></th>\n",
       "      <th>salary</th>\n",
       "      <th>cat</th>\n",
       "    </tr>\n",
       "  </thead>\n",
       "  <tbody>\n",
       "    <tr>\n",
       "      <th>0</th>\n",
       "      <td>1200</td>\n",
       "      <td>low</td>\n",
       "    </tr>\n",
       "    <tr>\n",
       "      <th>1</th>\n",
       "      <td>2500</td>\n",
       "      <td>low</td>\n",
       "    </tr>\n",
       "    <tr>\n",
       "      <th>2</th>\n",
       "      <td>3000</td>\n",
       "      <td>mid</td>\n",
       "    </tr>\n",
       "    <tr>\n",
       "      <th>3</th>\n",
       "      <td>6000</td>\n",
       "      <td>high</td>\n",
       "    </tr>\n",
       "  </tbody>\n",
       "</table>\n",
       "</div>"
      ],
      "text/plain": [
       "   salary   cat\n",
       "0    1200   low\n",
       "1    2500   low\n",
       "2    3000   mid\n",
       "3    6000  high"
      ]
     },
     "execution_count": 11,
     "metadata": {},
     "output_type": "execute_result"
    }
   ],
   "source": [
    "sal_details"
   ]
  },
  {
   "cell_type": "code",
   "execution_count": 12,
   "id": "8ccf3098",
   "metadata": {},
   "outputs": [
    {
     "data": {
      "text/plain": [
       "0    0\n",
       "1    0\n",
       "2    1\n",
       "3    3\n",
       "Name: cat, dtype: int64"
      ]
     },
     "execution_count": 12,
     "metadata": {},
     "output_type": "execute_result"
    }
   ],
   "source": [
    "sal_details.cat.map({'low':0,'mid':1,'high':3})"
   ]
  },
  {
   "cell_type": "code",
   "execution_count": 13,
   "id": "f8a95a16",
   "metadata": {},
   "outputs": [],
   "source": [
    "order=['high','mid','low']"
   ]
  },
  {
   "cell_type": "code",
   "execution_count": null,
   "id": "3e7a7ee6",
   "metadata": {},
   "outputs": [],
   "source": []
  },
  {
   "cell_type": "code",
   "execution_count": null,
   "id": "0bf0eb8e",
   "metadata": {},
   "outputs": [],
   "source": []
  }
 ],
 "metadata": {
  "kernelspec": {
   "display_name": "Python 3 (ipykernel)",
   "language": "python",
   "name": "python3"
  },
  "language_info": {
   "codemirror_mode": {
    "name": "ipython",
    "version": 3
   },
   "file_extension": ".py",
   "mimetype": "text/x-python",
   "name": "python",
   "nbconvert_exporter": "python",
   "pygments_lexer": "ipython3",
   "version": "3.9.7"
  }
 },
 "nbformat": 4,
 "nbformat_minor": 5
}
