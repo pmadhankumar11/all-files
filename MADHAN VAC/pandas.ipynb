{
 "cells": [
  {
   "cell_type": "code",
   "execution_count": 9,
   "id": "a13a2c70",
   "metadata": {},
   "outputs": [],
   "source": [
    "import pandas "
   ]
  },
  {
   "cell_type": "code",
   "execution_count": 11,
   "id": "678dcd0d",
   "metadata": {},
   "outputs": [
    {
     "data": {
      "text/plain": [
       "'1.3.4'"
      ]
     },
     "execution_count": 11,
     "metadata": {},
     "output_type": "execute_result"
    }
   ],
   "source": [
    "ms.__version__"
   ]
  },
  {
   "cell_type": "code",
   "execution_count": 2,
   "id": "42d93b76",
   "metadata": {},
   "outputs": [],
   "source": [
    "import pandas as ms"
   ]
  },
  {
   "cell_type": "code",
   "execution_count": 4,
   "id": "e95dc35f",
   "metadata": {},
   "outputs": [],
   "source": [
    "a=ms.Series(['ONE','two','three',4,5],index=[0,1,2,3,4])"
   ]
  },
  {
   "cell_type": "code",
   "execution_count": 5,
   "id": "463e9c3d",
   "metadata": {},
   "outputs": [
    {
     "name": "stdout",
     "output_type": "stream",
     "text": [
      "0      ONE\n",
      "1      two\n",
      "2    three\n",
      "3        4\n",
      "4        5\n",
      "dtype: object\n"
     ]
    }
   ],
   "source": [
    "print(a)"
   ]
  },
  {
   "cell_type": "code",
   "execution_count": 6,
   "id": "7a746c54",
   "metadata": {},
   "outputs": [],
   "source": [
    "VAC=ms.Series([201,202,204,205,208],index=[1,2,3,4,5])"
   ]
  },
  {
   "cell_type": "code",
   "execution_count": 7,
   "id": "4d820d1d",
   "metadata": {},
   "outputs": [
    {
     "name": "stdout",
     "output_type": "stream",
     "text": [
      "1    201\n",
      "2    202\n",
      "3    204\n",
      "4    205\n",
      "5    208\n",
      "dtype: int64\n"
     ]
    }
   ],
   "source": [
    "print(VAC)"
   ]
  },
  {
   "cell_type": "code",
   "execution_count": 8,
   "id": "cdf64a04",
   "metadata": {},
   "outputs": [],
   "source": [
    "season={\"rainy\":{1:'oct',2:'nov',3:'dec',4:'jan'},\"dry\":{1:'mar',2:'apr',3:'may'}}"
   ]
  },
  {
   "cell_type": "code",
   "execution_count": 9,
   "id": "074925b5",
   "metadata": {},
   "outputs": [],
   "source": [
    "clm=ms.DataFrame(season,columns=[\"rainy\",\"dry\"])"
   ]
  },
  {
   "cell_type": "code",
   "execution_count": 10,
   "id": "cfbb0443",
   "metadata": {},
   "outputs": [
    {
     "name": "stdout",
     "output_type": "stream",
     "text": [
      "  rainy  dry\n",
      "1   oct  mar\n",
      "2   nov  apr\n",
      "3   dec  may\n",
      "4   jan  NaN\n"
     ]
    }
   ],
   "source": [
    "print(clm)"
   ]
  },
  {
   "cell_type": "code",
   "execution_count": 11,
   "id": "2d5c8fe5",
   "metadata": {},
   "outputs": [],
   "source": [
    "trend={\"month\":{1:'jan',2:'mar',3:'may',4:'july'},\"product\":{1:'sugercane',2:'ice cream',3:'watermelan',4:'cone'}}"
   ]
  },
  {
   "cell_type": "code",
   "execution_count": 12,
   "id": "b74b4ad9",
   "metadata": {},
   "outputs": [],
   "source": [
    "trend=ms.DataFrame(trend,columns=[\"month\",\"product\"])"
   ]
  },
  {
   "cell_type": "code",
   "execution_count": 13,
   "id": "13ad55f6",
   "metadata": {},
   "outputs": [
    {
     "data": {
      "text/html": [
       "<div>\n",
       "<style scoped>\n",
       "    .dataframe tbody tr th:only-of-type {\n",
       "        vertical-align: middle;\n",
       "    }\n",
       "\n",
       "    .dataframe tbody tr th {\n",
       "        vertical-align: top;\n",
       "    }\n",
       "\n",
       "    .dataframe thead th {\n",
       "        text-align: right;\n",
       "    }\n",
       "</style>\n",
       "<table border=\"1\" class=\"dataframe\">\n",
       "  <thead>\n",
       "    <tr style=\"text-align: right;\">\n",
       "      <th></th>\n",
       "      <th>month</th>\n",
       "      <th>product</th>\n",
       "    </tr>\n",
       "  </thead>\n",
       "  <tbody>\n",
       "    <tr>\n",
       "      <th>1</th>\n",
       "      <td>jan</td>\n",
       "      <td>sugercane</td>\n",
       "    </tr>\n",
       "    <tr>\n",
       "      <th>2</th>\n",
       "      <td>mar</td>\n",
       "      <td>ice cream</td>\n",
       "    </tr>\n",
       "    <tr>\n",
       "      <th>3</th>\n",
       "      <td>may</td>\n",
       "      <td>watermelan</td>\n",
       "    </tr>\n",
       "    <tr>\n",
       "      <th>4</th>\n",
       "      <td>july</td>\n",
       "      <td>cone</td>\n",
       "    </tr>\n",
       "  </tbody>\n",
       "</table>\n",
       "</div>"
      ],
      "text/plain": [
       "  month     product\n",
       "1   jan   sugercane\n",
       "2   mar   ice cream\n",
       "3   may  watermelan\n",
       "4  july        cone"
      ]
     },
     "execution_count": 13,
     "metadata": {},
     "output_type": "execute_result"
    }
   ],
   "source": [
    "trend"
   ]
  },
  {
   "cell_type": "code",
   "execution_count": 14,
   "id": "ea792cba",
   "metadata": {},
   "outputs": [
    {
     "name": "stdout",
     "output_type": "stream",
     "text": [
      "  month     product\n",
      "1   jan   sugercane\n",
      "2   mar   ice cream\n",
      "3   may  watermelan\n",
      "4  july        cone\n"
     ]
    }
   ],
   "source": [
    "print(trend)"
   ]
  },
  {
   "cell_type": "code",
   "execution_count": 15,
   "id": "68afa6af",
   "metadata": {},
   "outputs": [],
   "source": [
    "import numpy as mk"
   ]
  },
  {
   "cell_type": "code",
   "execution_count": 16,
   "id": "ba6ef689",
   "metadata": {},
   "outputs": [],
   "source": [
    "q=ms.DataFrame(mk.random.randint(0,200,size=(100,6)),columns=list(('mnopqr')))"
   ]
  },
  {
   "cell_type": "code",
   "execution_count": 17,
   "id": "511a0fdb",
   "metadata": {},
   "outputs": [
    {
     "name": "stdout",
     "output_type": "stream",
     "text": [
      "      m    n    o    p    q    r\n",
      "0   196   27  193  172   67  154\n",
      "1    70    8   81   24  140   63\n",
      "2    41  128   93   52  151  158\n",
      "3    32  182   19  149   76   35\n",
      "4    79   83  105   14   80   11\n",
      "..  ...  ...  ...  ...  ...  ...\n",
      "95   67  176  152  148   65   65\n",
      "96  175  141  180  132  152  170\n",
      "97  180  152   59   51  199   72\n",
      "98  110  100   47  175  127   67\n",
      "99   62   21   61  108   64  127\n",
      "\n",
      "[100 rows x 6 columns]\n"
     ]
    }
   ],
   "source": [
    "print(q)"
   ]
  },
  {
   "cell_type": "code",
   "execution_count": 18,
   "id": "827edae2",
   "metadata": {},
   "outputs": [],
   "source": [
    "q.to_csv('D:\\jupiter notebook\\pm.csv')"
   ]
  },
  {
   "cell_type": "code",
   "execution_count": 19,
   "id": "1cb1cf28",
   "metadata": {},
   "outputs": [],
   "source": [
    "m=ms.read_csv('D:/jupiter notebook/pm.csv')"
   ]
  },
  {
   "cell_type": "code",
   "execution_count": 20,
   "id": "4ddf55c6",
   "metadata": {},
   "outputs": [
    {
     "data": {
      "text/html": [
       "<div>\n",
       "<style scoped>\n",
       "    .dataframe tbody tr th:only-of-type {\n",
       "        vertical-align: middle;\n",
       "    }\n",
       "\n",
       "    .dataframe tbody tr th {\n",
       "        vertical-align: top;\n",
       "    }\n",
       "\n",
       "    .dataframe thead th {\n",
       "        text-align: right;\n",
       "    }\n",
       "</style>\n",
       "<table border=\"1\" class=\"dataframe\">\n",
       "  <thead>\n",
       "    <tr style=\"text-align: right;\">\n",
       "      <th></th>\n",
       "      <th>Unnamed: 0</th>\n",
       "      <th>m</th>\n",
       "      <th>n</th>\n",
       "      <th>o</th>\n",
       "      <th>p</th>\n",
       "      <th>q</th>\n",
       "      <th>r</th>\n",
       "    </tr>\n",
       "  </thead>\n",
       "  <tbody>\n",
       "    <tr>\n",
       "      <th>0</th>\n",
       "      <td>0</td>\n",
       "      <td>196</td>\n",
       "      <td>27</td>\n",
       "      <td>193</td>\n",
       "      <td>172</td>\n",
       "      <td>67</td>\n",
       "      <td>154</td>\n",
       "    </tr>\n",
       "    <tr>\n",
       "      <th>1</th>\n",
       "      <td>1</td>\n",
       "      <td>70</td>\n",
       "      <td>8</td>\n",
       "      <td>81</td>\n",
       "      <td>24</td>\n",
       "      <td>140</td>\n",
       "      <td>63</td>\n",
       "    </tr>\n",
       "    <tr>\n",
       "      <th>2</th>\n",
       "      <td>2</td>\n",
       "      <td>41</td>\n",
       "      <td>128</td>\n",
       "      <td>93</td>\n",
       "      <td>52</td>\n",
       "      <td>151</td>\n",
       "      <td>158</td>\n",
       "    </tr>\n",
       "    <tr>\n",
       "      <th>3</th>\n",
       "      <td>3</td>\n",
       "      <td>32</td>\n",
       "      <td>182</td>\n",
       "      <td>19</td>\n",
       "      <td>149</td>\n",
       "      <td>76</td>\n",
       "      <td>35</td>\n",
       "    </tr>\n",
       "    <tr>\n",
       "      <th>4</th>\n",
       "      <td>4</td>\n",
       "      <td>79</td>\n",
       "      <td>83</td>\n",
       "      <td>105</td>\n",
       "      <td>14</td>\n",
       "      <td>80</td>\n",
       "      <td>11</td>\n",
       "    </tr>\n",
       "    <tr>\n",
       "      <th>...</th>\n",
       "      <td>...</td>\n",
       "      <td>...</td>\n",
       "      <td>...</td>\n",
       "      <td>...</td>\n",
       "      <td>...</td>\n",
       "      <td>...</td>\n",
       "      <td>...</td>\n",
       "    </tr>\n",
       "    <tr>\n",
       "      <th>95</th>\n",
       "      <td>95</td>\n",
       "      <td>67</td>\n",
       "      <td>176</td>\n",
       "      <td>152</td>\n",
       "      <td>148</td>\n",
       "      <td>65</td>\n",
       "      <td>65</td>\n",
       "    </tr>\n",
       "    <tr>\n",
       "      <th>96</th>\n",
       "      <td>96</td>\n",
       "      <td>175</td>\n",
       "      <td>141</td>\n",
       "      <td>180</td>\n",
       "      <td>132</td>\n",
       "      <td>152</td>\n",
       "      <td>170</td>\n",
       "    </tr>\n",
       "    <tr>\n",
       "      <th>97</th>\n",
       "      <td>97</td>\n",
       "      <td>180</td>\n",
       "      <td>152</td>\n",
       "      <td>59</td>\n",
       "      <td>51</td>\n",
       "      <td>199</td>\n",
       "      <td>72</td>\n",
       "    </tr>\n",
       "    <tr>\n",
       "      <th>98</th>\n",
       "      <td>98</td>\n",
       "      <td>110</td>\n",
       "      <td>100</td>\n",
       "      <td>47</td>\n",
       "      <td>175</td>\n",
       "      <td>127</td>\n",
       "      <td>67</td>\n",
       "    </tr>\n",
       "    <tr>\n",
       "      <th>99</th>\n",
       "      <td>99</td>\n",
       "      <td>62</td>\n",
       "      <td>21</td>\n",
       "      <td>61</td>\n",
       "      <td>108</td>\n",
       "      <td>64</td>\n",
       "      <td>127</td>\n",
       "    </tr>\n",
       "  </tbody>\n",
       "</table>\n",
       "<p>100 rows × 7 columns</p>\n",
       "</div>"
      ],
      "text/plain": [
       "    Unnamed: 0    m    n    o    p    q    r\n",
       "0            0  196   27  193  172   67  154\n",
       "1            1   70    8   81   24  140   63\n",
       "2            2   41  128   93   52  151  158\n",
       "3            3   32  182   19  149   76   35\n",
       "4            4   79   83  105   14   80   11\n",
       "..         ...  ...  ...  ...  ...  ...  ...\n",
       "95          95   67  176  152  148   65   65\n",
       "96          96  175  141  180  132  152  170\n",
       "97          97  180  152   59   51  199   72\n",
       "98          98  110  100   47  175  127   67\n",
       "99          99   62   21   61  108   64  127\n",
       "\n",
       "[100 rows x 7 columns]"
      ]
     },
     "execution_count": 20,
     "metadata": {},
     "output_type": "execute_result"
    }
   ],
   "source": [
    "m"
   ]
  },
  {
   "cell_type": "code",
   "execution_count": 21,
   "id": "76335df9",
   "metadata": {},
   "outputs": [
    {
     "data": {
      "text/html": [
       "<div>\n",
       "<style scoped>\n",
       "    .dataframe tbody tr th:only-of-type {\n",
       "        vertical-align: middle;\n",
       "    }\n",
       "\n",
       "    .dataframe tbody tr th {\n",
       "        vertical-align: top;\n",
       "    }\n",
       "\n",
       "    .dataframe thead th {\n",
       "        text-align: right;\n",
       "    }\n",
       "</style>\n",
       "<table border=\"1\" class=\"dataframe\">\n",
       "  <thead>\n",
       "    <tr style=\"text-align: right;\">\n",
       "      <th></th>\n",
       "      <th>Unnamed: 0</th>\n",
       "      <th>m</th>\n",
       "      <th>n</th>\n",
       "      <th>o</th>\n",
       "      <th>q</th>\n",
       "      <th>r</th>\n",
       "    </tr>\n",
       "  </thead>\n",
       "  <tbody>\n",
       "    <tr>\n",
       "      <th>0</th>\n",
       "      <td>0</td>\n",
       "      <td>196</td>\n",
       "      <td>27</td>\n",
       "      <td>193</td>\n",
       "      <td>67</td>\n",
       "      <td>154</td>\n",
       "    </tr>\n",
       "    <tr>\n",
       "      <th>1</th>\n",
       "      <td>1</td>\n",
       "      <td>70</td>\n",
       "      <td>8</td>\n",
       "      <td>81</td>\n",
       "      <td>140</td>\n",
       "      <td>63</td>\n",
       "    </tr>\n",
       "    <tr>\n",
       "      <th>2</th>\n",
       "      <td>2</td>\n",
       "      <td>41</td>\n",
       "      <td>128</td>\n",
       "      <td>93</td>\n",
       "      <td>151</td>\n",
       "      <td>158</td>\n",
       "    </tr>\n",
       "    <tr>\n",
       "      <th>3</th>\n",
       "      <td>3</td>\n",
       "      <td>32</td>\n",
       "      <td>182</td>\n",
       "      <td>19</td>\n",
       "      <td>76</td>\n",
       "      <td>35</td>\n",
       "    </tr>\n",
       "    <tr>\n",
       "      <th>4</th>\n",
       "      <td>4</td>\n",
       "      <td>79</td>\n",
       "      <td>83</td>\n",
       "      <td>105</td>\n",
       "      <td>80</td>\n",
       "      <td>11</td>\n",
       "    </tr>\n",
       "    <tr>\n",
       "      <th>...</th>\n",
       "      <td>...</td>\n",
       "      <td>...</td>\n",
       "      <td>...</td>\n",
       "      <td>...</td>\n",
       "      <td>...</td>\n",
       "      <td>...</td>\n",
       "    </tr>\n",
       "    <tr>\n",
       "      <th>95</th>\n",
       "      <td>95</td>\n",
       "      <td>67</td>\n",
       "      <td>176</td>\n",
       "      <td>152</td>\n",
       "      <td>65</td>\n",
       "      <td>65</td>\n",
       "    </tr>\n",
       "    <tr>\n",
       "      <th>96</th>\n",
       "      <td>96</td>\n",
       "      <td>175</td>\n",
       "      <td>141</td>\n",
       "      <td>180</td>\n",
       "      <td>152</td>\n",
       "      <td>170</td>\n",
       "    </tr>\n",
       "    <tr>\n",
       "      <th>97</th>\n",
       "      <td>97</td>\n",
       "      <td>180</td>\n",
       "      <td>152</td>\n",
       "      <td>59</td>\n",
       "      <td>199</td>\n",
       "      <td>72</td>\n",
       "    </tr>\n",
       "    <tr>\n",
       "      <th>98</th>\n",
       "      <td>98</td>\n",
       "      <td>110</td>\n",
       "      <td>100</td>\n",
       "      <td>47</td>\n",
       "      <td>127</td>\n",
       "      <td>67</td>\n",
       "    </tr>\n",
       "    <tr>\n",
       "      <th>99</th>\n",
       "      <td>99</td>\n",
       "      <td>62</td>\n",
       "      <td>21</td>\n",
       "      <td>61</td>\n",
       "      <td>64</td>\n",
       "      <td>127</td>\n",
       "    </tr>\n",
       "  </tbody>\n",
       "</table>\n",
       "<p>100 rows × 6 columns</p>\n",
       "</div>"
      ],
      "text/plain": [
       "    Unnamed: 0    m    n    o    q    r\n",
       "0            0  196   27  193   67  154\n",
       "1            1   70    8   81  140   63\n",
       "2            2   41  128   93  151  158\n",
       "3            3   32  182   19   76   35\n",
       "4            4   79   83  105   80   11\n",
       "..         ...  ...  ...  ...  ...  ...\n",
       "95          95   67  176  152   65   65\n",
       "96          96  175  141  180  152  170\n",
       "97          97  180  152   59  199   72\n",
       "98          98  110  100   47  127   67\n",
       "99          99   62   21   61   64  127\n",
       "\n",
       "[100 rows x 6 columns]"
      ]
     },
     "execution_count": 21,
     "metadata": {},
     "output_type": "execute_result"
    }
   ],
   "source": [
    "m.drop(\"p\",axis=1)"
   ]
  },
  {
   "cell_type": "code",
   "execution_count": 22,
   "id": "72549914",
   "metadata": {},
   "outputs": [],
   "source": [
    "s=m.drop(\"p\",axis=1)"
   ]
  },
  {
   "cell_type": "code",
   "execution_count": 23,
   "id": "0876afa4",
   "metadata": {},
   "outputs": [
    {
     "data": {
      "text/html": [
       "<div>\n",
       "<style scoped>\n",
       "    .dataframe tbody tr th:only-of-type {\n",
       "        vertical-align: middle;\n",
       "    }\n",
       "\n",
       "    .dataframe tbody tr th {\n",
       "        vertical-align: top;\n",
       "    }\n",
       "\n",
       "    .dataframe thead th {\n",
       "        text-align: right;\n",
       "    }\n",
       "</style>\n",
       "<table border=\"1\" class=\"dataframe\">\n",
       "  <thead>\n",
       "    <tr style=\"text-align: right;\">\n",
       "      <th></th>\n",
       "      <th>Unnamed: 0</th>\n",
       "      <th>m</th>\n",
       "      <th>n</th>\n",
       "      <th>o</th>\n",
       "      <th>q</th>\n",
       "      <th>r</th>\n",
       "    </tr>\n",
       "  </thead>\n",
       "  <tbody>\n",
       "    <tr>\n",
       "      <th>0</th>\n",
       "      <td>0</td>\n",
       "      <td>196</td>\n",
       "      <td>27</td>\n",
       "      <td>193</td>\n",
       "      <td>67</td>\n",
       "      <td>154</td>\n",
       "    </tr>\n",
       "    <tr>\n",
       "      <th>1</th>\n",
       "      <td>1</td>\n",
       "      <td>70</td>\n",
       "      <td>8</td>\n",
       "      <td>81</td>\n",
       "      <td>140</td>\n",
       "      <td>63</td>\n",
       "    </tr>\n",
       "    <tr>\n",
       "      <th>2</th>\n",
       "      <td>2</td>\n",
       "      <td>41</td>\n",
       "      <td>128</td>\n",
       "      <td>93</td>\n",
       "      <td>151</td>\n",
       "      <td>158</td>\n",
       "    </tr>\n",
       "    <tr>\n",
       "      <th>3</th>\n",
       "      <td>3</td>\n",
       "      <td>32</td>\n",
       "      <td>182</td>\n",
       "      <td>19</td>\n",
       "      <td>76</td>\n",
       "      <td>35</td>\n",
       "    </tr>\n",
       "    <tr>\n",
       "      <th>4</th>\n",
       "      <td>4</td>\n",
       "      <td>79</td>\n",
       "      <td>83</td>\n",
       "      <td>105</td>\n",
       "      <td>80</td>\n",
       "      <td>11</td>\n",
       "    </tr>\n",
       "    <tr>\n",
       "      <th>...</th>\n",
       "      <td>...</td>\n",
       "      <td>...</td>\n",
       "      <td>...</td>\n",
       "      <td>...</td>\n",
       "      <td>...</td>\n",
       "      <td>...</td>\n",
       "    </tr>\n",
       "    <tr>\n",
       "      <th>95</th>\n",
       "      <td>95</td>\n",
       "      <td>67</td>\n",
       "      <td>176</td>\n",
       "      <td>152</td>\n",
       "      <td>65</td>\n",
       "      <td>65</td>\n",
       "    </tr>\n",
       "    <tr>\n",
       "      <th>96</th>\n",
       "      <td>96</td>\n",
       "      <td>175</td>\n",
       "      <td>141</td>\n",
       "      <td>180</td>\n",
       "      <td>152</td>\n",
       "      <td>170</td>\n",
       "    </tr>\n",
       "    <tr>\n",
       "      <th>97</th>\n",
       "      <td>97</td>\n",
       "      <td>180</td>\n",
       "      <td>152</td>\n",
       "      <td>59</td>\n",
       "      <td>199</td>\n",
       "      <td>72</td>\n",
       "    </tr>\n",
       "    <tr>\n",
       "      <th>98</th>\n",
       "      <td>98</td>\n",
       "      <td>110</td>\n",
       "      <td>100</td>\n",
       "      <td>47</td>\n",
       "      <td>127</td>\n",
       "      <td>67</td>\n",
       "    </tr>\n",
       "    <tr>\n",
       "      <th>99</th>\n",
       "      <td>99</td>\n",
       "      <td>62</td>\n",
       "      <td>21</td>\n",
       "      <td>61</td>\n",
       "      <td>64</td>\n",
       "      <td>127</td>\n",
       "    </tr>\n",
       "  </tbody>\n",
       "</table>\n",
       "<p>100 rows × 6 columns</p>\n",
       "</div>"
      ],
      "text/plain": [
       "    Unnamed: 0    m    n    o    q    r\n",
       "0            0  196   27  193   67  154\n",
       "1            1   70    8   81  140   63\n",
       "2            2   41  128   93  151  158\n",
       "3            3   32  182   19   76   35\n",
       "4            4   79   83  105   80   11\n",
       "..         ...  ...  ...  ...  ...  ...\n",
       "95          95   67  176  152   65   65\n",
       "96          96  175  141  180  152  170\n",
       "97          97  180  152   59  199   72\n",
       "98          98  110  100   47  127   67\n",
       "99          99   62   21   61   64  127\n",
       "\n",
       "[100 rows x 6 columns]"
      ]
     },
     "execution_count": 23,
     "metadata": {},
     "output_type": "execute_result"
    }
   ],
   "source": [
    "s"
   ]
  },
  {
   "cell_type": "code",
   "execution_count": 24,
   "id": "fe89dc2b",
   "metadata": {},
   "outputs": [
    {
     "data": {
      "text/plain": [
       "(100, 7)"
      ]
     },
     "execution_count": 24,
     "metadata": {},
     "output_type": "execute_result"
    }
   ],
   "source": [
    "m.shape"
   ]
  },
  {
   "cell_type": "code",
   "execution_count": 25,
   "id": "abd18b7e",
   "metadata": {},
   "outputs": [
    {
     "name": "stdout",
     "output_type": "stream",
     "text": [
      "<class 'pandas.core.frame.DataFrame'>\n",
      "RangeIndex: 100 entries, 0 to 99\n",
      "Data columns (total 7 columns):\n",
      " #   Column      Non-Null Count  Dtype\n",
      "---  ------      --------------  -----\n",
      " 0   Unnamed: 0  100 non-null    int64\n",
      " 1   m           100 non-null    int64\n",
      " 2   n           100 non-null    int64\n",
      " 3   o           100 non-null    int64\n",
      " 4   p           100 non-null    int64\n",
      " 5   q           100 non-null    int64\n",
      " 6   r           100 non-null    int64\n",
      "dtypes: int64(7)\n",
      "memory usage: 5.6 KB\n"
     ]
    }
   ],
   "source": [
    "m.info()"
   ]
  },
  {
   "cell_type": "code",
   "execution_count": null,
   "id": "adcdc041",
   "metadata": {},
   "outputs": [],
   "source": []
  }
 ],
 "metadata": {
  "kernelspec": {
   "display_name": "Python 3 (ipykernel)",
   "language": "python",
   "name": "python3"
  },
  "language_info": {
   "codemirror_mode": {
    "name": "ipython",
    "version": 3
   },
   "file_extension": ".py",
   "mimetype": "text/x-python",
   "name": "python",
   "nbconvert_exporter": "python",
   "pygments_lexer": "ipython3",
   "version": "3.9.7"
  }
 },
 "nbformat": 4,
 "nbformat_minor": 5
}
