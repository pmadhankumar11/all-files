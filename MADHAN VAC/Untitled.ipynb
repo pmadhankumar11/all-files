{
 "cells": [
  {
   "cell_type": "markdown",
   "id": "d1ff8a61",
   "metadata": {},
   "source": [
    "FOR STATMENT CONCEPT\n",
    "HOW MUCH DISTANCE CAN YOU WALK CONTINUOUSLY?\n",
    "I CAN WALK CONTINOUSLY FOR A DISTANCE OF 2KM.\n",
    "\n"
   ]
  },
  {
   "cell_type": "code",
   "execution_count": null,
   "id": "2705e1d8",
   "metadata": {
    "scrolled": false
   },
   "outputs": [],
   "source": [
    "fare_per_km=2\n",
    "for dist in range(1,10):\n",
    "    if dist > 1:\n",
    "        total_fare=dist*5\n",
    "        print(f\" your total fare for {dist}km is {total_fare}\")\n",
    "        \n",
    "    else:\n",
    "        print(f\"your total fare for 1 km is 2\")\n",
    "   "
   ]
  },
  {
   "cell_type": "code",
   "execution_count": null,
   "id": "28654228",
   "metadata": {},
   "outputs": [],
   "source": [
    "ticket_per_class=100\n",
    "for dist in range(1,5):\n",
    "    if dist >1:\n",
    "        total_ticket=dist*150\n",
    "        print(f\"your ticket fare for {dist}place in {total_ticket}\")\n",
    "    else:\n",
    "        print(f\"your total ticket for 1 place is 100\")"
   ]
  },
  {
   "cell_type": "markdown",
   "id": "98e015d1",
   "metadata": {},
   "source": [
    "WHILE CONTITION\n"
   ]
  },
  {
   "cell_type": "code",
   "execution_count": null,
   "id": "3140fd7c",
   "metadata": {},
   "outputs": [],
   "source": [
    "cost_per_km=10\n",
    "km=input(\"enter the distance\")\n",
    "stopname={1:\"thanjavur\",4:\"madurai\"}\n",
    "for distance in range(1,5):\n",
    "    if(distance)==2:\n",
    "        totalcast=cost_per_km*1\n",
    "        print(f\"your expenditure for {distance} km is {total caste}and stopname is {stopname[1]}\")\n",
    "    elif(distance)==3:\n",
    "        totalcost=cost_per_km*3\n",
    "        print(f\"your expenditure for {distance} km is {totalcost}and stopname is{stopname[4]}\")"
   ]
  },
  {
   "cell_type": "code",
   "execution_count": null,
   "id": "4c31fd76",
   "metadata": {},
   "outputs": [],
   "source": [
    "bus=int(input(\"enter the sear capacity:\"))\n",
    "counter=1\n",
    "while counter<=bus/2:\n",
    "    print(f\"your seat is not confirmed\")\n",
    "    print(f\"only {counter} tickets booked\")\n",
    "    counter+=1\n",
    "print(\"50% fthe ticket filled.the seat confirmed\")\n"
   ]
  },
  {
   "cell_type": "code",
   "execution_count": null,
   "id": "25a99694",
   "metadata": {},
   "outputs": [],
   "source": [
    "i = input('Please enter an integer (0 to exit):\\n')\n",
    "i = int(i)\n",
    "if i == 0:\n",
    "    print(\"Exiting the Program\")\n",
    "    break\n",
    "print(f'{i} square is {i ** 2}')"
   ]
  },
  {
   "cell_type": "code",
   "execution_count": 1,
   "id": "df46eca7",
   "metadata": {
    "scrolled": true
   },
   "outputs": [
    {
     "name": "stdout",
     "output_type": "stream",
     "text": [
      "enter limit5\n",
      "0\n",
      "1\n",
      "1\n",
      "1\n",
      "1\n",
      "2\n",
      "1\n",
      "2\n",
      "3\n",
      "2\n",
      "3\n",
      "5\n",
      "3\n",
      "5\n",
      "8\n",
      "5\n",
      "8\n",
      "13\n"
     ]
    }
   ],
   "source": [
    "limit=int(input(\"enter limit\"))\n",
    "count=0\n",
    "a=0\n",
    "b=1\n",
    "while count<=limit:\n",
    "    print(a)\n",
    "    print(b)\n",
    "    c=a+b\n",
    "    print(c)\n",
    "    count+=1\n",
    "    a=b\n",
    "    b=c\n",
    "    \n"
   ]
  },
  {
   "cell_type": "code",
   "execution_count": null,
   "id": "b7bfa522",
   "metadata": {},
   "outputs": [],
   "source": []
  },
  {
   "cell_type": "markdown",
   "id": "c9eef770",
   "metadata": {},
   "source": [
    "def fibo(n):\n",
    "    a = 4\n",
    "    b = 7\n",
    "    for i in range(0, n):\n",
    "        temp = a\n",
    "        a = b\n",
    "        b = temp + b\n",
    "    return a\n",
    "for c in range(0, 8):\n",
    "    print(fibo(c))"
   ]
  },
  {
   "cell_type": "code",
   "execution_count": 9,
   "id": "4fbdeaf8",
   "metadata": {},
   "outputs": [
    {
     "data": {
      "text/plain": [
       "47"
      ]
     },
     "execution_count": 9,
     "metadata": {},
     "output_type": "execute_result"
    }
   ],
   "source": []
  },
  {
   "cell_type": "code",
   "execution_count": 10,
   "id": "6a55f703",
   "metadata": {},
   "outputs": [
    {
     "data": {
      "text/plain": [
       "521"
      ]
     },
     "execution_count": 10,
     "metadata": {},
     "output_type": "execute_result"
    }
   ],
   "source": [
    "fibo(10)"
   ]
  },
  {
   "cell_type": "markdown",
   "id": "62e50897",
   "metadata": {},
   "source": [
    "def addition(a,b):\n",
    "    c=a+b\n",
    "    print(c)"
   ]
  },
  {
   "cell_type": "code",
   "execution_count": 8,
   "id": "5e2b5a3f",
   "metadata": {},
   "outputs": [
    {
     "name": "stdout",
     "output_type": "stream",
     "text": [
      "14\n"
     ]
    }
   ],
   "source": [
    "addition(10,4)"
   ]
  },
  {
   "cell_type": "code",
   "execution_count": null,
   "id": "d004aa80",
   "metadata": {},
   "outputs": [],
   "source": []
  }
 ],
 "metadata": {
  "kernelspec": {
   "display_name": "Python 3 (ipykernel)",
   "language": "python",
   "name": "python3"
  },
  "language_info": {
   "codemirror_mode": {
    "name": "ipython",
    "version": 3
   },
   "file_extension": ".py",
   "mimetype": "text/x-python",
   "name": "python",
   "nbconvert_exporter": "python",
   "pygments_lexer": "ipython3",
   "version": "3.9.7"
  }
 },
 "nbformat": 4,
 "nbformat_minor": 5
}
